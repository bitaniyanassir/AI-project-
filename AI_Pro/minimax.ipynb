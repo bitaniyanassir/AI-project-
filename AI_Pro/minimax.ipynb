{
 "cells": [
  {
   "cell_type": "code",
   "execution_count": 1,
   "id": "c62e1b7b",
   "metadata": {},
   "outputs": [],
   "source": [
    "class Node:\n",
    "    def __init__(self, name, value=None):\n",
    "        self.name = name\n",
    "        self.value = value\n",
    "        self.children = []\n",
    "\n",
    "    def add_child(self, child_node):\n",
    "        self.children.append(child_node)\n",
    "\n",
    "\n",
    "class MiniMaxAgent:\n",
    "    def __init__(self, initial_state):\n",
    "        self.initial_state = initial_state\n",
    "\n",
    "    def minimax_search(self, node, max_player):\n",
    "        if not node.children:  # Terminal node\n",
    "            return node.value\n",
    "\n",
    "        if max_player:\n",
    "            best_value = float('-inf')\n",
    "            for child in node.children:\n",
    "                value = self.minimax_search(child, False)\n",
    "                best_value = max(best_value, value)\n",
    "            return best_value\n",
    "        else:\n",
    "            best_value = float('inf')\n",
    "            for child in node.children:\n",
    "                value = self.minimax_search(child, True)\n",
    "                best_value = min(best_value, value)\n",
    "            return best_value"
   ]
  },
  {
   "cell_type": "code",
   "execution_count": 2,
   "id": "2d08ac83",
   "metadata": {},
   "outputs": [],
   "source": [
    "# Building the graph\n",
    "addis_ababa = Node(\"Addis Ababa\")\n",
    "ambo = Node(\"Ambo\")\n",
    "butajira = Node(\"Butajira\")\n",
    "adama = Node(\"Adama\")\n",
    "nekemite = Node(\"Nekemite\")\n",
    "gode = Node(\"Gode\")\n",
    "wolkite = Node(\"Wolkite\")\n",
    "worabe = Node(\"Worabe\")\n",
    "mojo = Node(\"Mojo\")\n",
    "dire_dewa = Node(\"Dire Dewa\")"
   ]
  },
  {
   "cell_type": "code",
   "execution_count": 3,
   "id": "f9b6beb7",
   "metadata": {},
   "outputs": [],
   "source": [
    "# Adding child nodes\n",
    "addis_ababa.add_child(ambo)\n",
    "addis_ababa.add_child(butajira)\n",
    "addis_ababa.add_child(adama)\n",
    "ambo.add_child(nekemite)\n",
    "ambo.add_child(gode)\n",
    "butajira.add_child(wolkite)\n",
    "butajira.add_child(worabe)\n",
    "adama.add_child(mojo)\n",
    "adama.add_child(dire_dewa)"
   ]
  },
  {
   "cell_type": "code",
   "execution_count": 4,
   "id": "43253f46",
   "metadata": {},
   "outputs": [],
   "source": [
    "# Adding terminal nodes with their respective values\n",
    "nekemite.add_child(Node(\"Gimbi\", 8))\n",
    "nekemite.add_child(Node(\"Limu\", 8))\n",
    "gode.add_child(Node(\"Shambu\", 4))\n",
    "gode.add_child(Node(\"Fincha\", 5))\n",
    "wolkite.add_child(Node(\"Benchi Maji\", 6))\n",
    "wolkite.add_child(Node(\"Tepi\", 5))\n",
    "worabe.add_child(Node(\"Hossana\", 6))\n",
    "worabe.add_child(Node(\"Durame\", 5))\n",
    "mojo.add_child(Node(\"Kaffa\", 9))\n",
    "mojo.add_child(Node(\"Dilla\", 7))\n",
    "dire_dewa.add_child(Node(\"Harar\", 6))\n",
    "dire_dewa.add_child(Node(\"Chiro\", 10))"
   ]
  },
  {
   "cell_type": "code",
   "execution_count": 5,
   "id": "38cd197b",
   "metadata": {},
   "outputs": [
    {
     "name": "stdout",
     "output_type": "stream",
     "text": [
      "The best achievable value for the agent is: 9\n"
     ]
    }
   ],
   "source": [
    "# Creating the MiniMax agent\n",
    "agent = MiniMaxAgent(addis_ababa)\n",
    "\n",
    "# Running the MiniMax search algorithm\n",
    "best_value = agent.minimax_search(addis_ababa, True)\n",
    "\n",
    "print(f\"The best achievable value for the agent is: {best_value}\")"
   ]
  },
  {
   "cell_type": "code",
   "execution_count": null,
   "id": "b39a2206",
   "metadata": {},
   "outputs": [],
   "source": []
  }
 ],
 "metadata": {
  "kernelspec": {
   "display_name": "Python 3 (ipykernel)",
   "language": "python",
   "name": "python3"
  },
  "language_info": {
   "codemirror_mode": {
    "name": "ipython",
    "version": 3
   },
   "file_extension": ".py",
   "mimetype": "text/x-python",
   "name": "python",
   "nbconvert_exporter": "python",
   "pygments_lexer": "ipython3",
   "version": "3.11.6"
  }
 },
 "nbformat": 4,
 "nbformat_minor": 5
}

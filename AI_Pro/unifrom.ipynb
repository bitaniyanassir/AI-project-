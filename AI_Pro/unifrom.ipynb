import heapq
graph = {
"addis ababa": {"debre brhan": 5 , "adama":3, "ambo": 5},
"ambo": {"nekemittie": 9, "wolkite": 6,"addis ababa":5},
"debre brhan":{"debre sina":2,"addis ababa":5},
"adama":{"addis ababa":3,"metehara":3,"batu":4,"assella":4},
"nekemittie": {"gimbi": 4, "bedelle":0,"ambo":9},
"wolkite": {"worabe": 5, "jimma": 8,"ambo": 6},
"bedelle":{"gore":6, "jimma":7 ,"nekemittie":0},
"gimbi": {"dembi dollo": 6 ,"nekemittie": 4},
"jimma": {"bedelle":7 , "bonga": 4,"wolkite": 8},
"worabe": {"hossana":2,"wolkite":5,"butajera": 2},
"gore":{"gambella": 5,"bedelle":6, "tepi":9},
"dembi dollo":{"assosa":12,"gambella":4,"gimbi":6},
"bonga":{"jimma":4,"tepi":8,"mezan teferi":4,"dawro":10},
"hossana":{"worabe":2,"shashemene":7,"wolayita sodo":4},
"butajera":{"batu":2,"worabe":2},
"gambella":{"gore": 5,"dembi dollo":4},
"assosa":{"dembi dollo":12},
"tepi":{"mezan teferi":4,"gore":9 ,"bonga":8},
"mezan teferi":{"bonga":4,"tepi":4},
"dawro":{"wolayita sodo":6,"bonga":10},
"shashemene":{"batu":3,"hawassa":1,"dodolla":3,"hossana":7},
"wolayita sodo":{"dawro":6,"arba minch":0,"hossana":4},
"batu":{"adama":4,"butajera":2,"shashemene":3},
"metekel":{"bahir dar":11},
"basketo":{"arba minch":10,"benchi maji":5},
"arba minch":{"wolayita sodo":0,"basketo":10,"konso":4},
"benchi maji":{"basketo":5,"juba":22},
"hawassa":{"dilla":3,"shashemene":1},
"dodolla":{"asasa":1,"shashemene":3,"bale":13},
"bahir dar":{"azezo":7,"metekel":11,"injibara":4,"fnote selam":6,"debre tabor":4},
"konso":{"yabello":3,"arba minch":4},
"juba":{"benchi maji":22},
"dilla":{"bule hora":4,"hawassa":3},
"asasa":{"dodolla":1,"assella":4},
"bale":{"gobe":18, "sof oumer":23,"liben":11,"dodolla":13},
"metehara":{"adama":3,"awash":1},
"assella":{"asasa":4,"adama":4},
"azezo":{"metema":7,"gonder":1,"bahir dar":7},
"injibara":{"fnote selam":2,"bahir dar":4},
"fnote selam":{"bahir dar":6,"injibara":2,"debre markos":3},
"yabello":{"moyalle":6,"konso":4,"bule hora":3},
"bule hora":{"dilla":4,"yabello":3},
"liben":{"bale":11},
"sof oumer":{"gobe":6,"bale":23,"gode":23},
"awash":{"chiro":4,"gobi rasu":5,"metehara":1},
"gobe":{"sof oumer":6,"babile":28,"bale":18},
"gonder":{"metema":7,"debark":4,"azezo":1,"humera":9},
"metema":{"kartum":19,"azezo":7,"gonder":7},
"debre markos":{"debre sina":17,"fnote selam":3},
"debre sina":{"kemisse":6,"debre markos":17,"debre brhan":2},
"moyalle":{"nairobi":22, "yabello":6},
"kebri dehar":{"dega habun":6,"woreder":6,"gode":5},
"chiro":{"awash":4,"dire dewa":8},
"gobi rasu":{"semera":9,"awash":9},
"dega habun":{"jigijiga":5,"kebri dehar":6},
"humera":{"shire":8,"kartum":21,"gonder":9},
"debark":{"gonder":4,"shire":7},
"kartum":{"metema":21,"humera":19},
"kemisse":{"dessie":4,"debre sina":6},
"gode":{"dollo":17, "mokadisho":22,"kebri dehar":5,"sof oumer":23},
"woreder":{"kebri dehar":6},
"dire dewa":{"chiro":8,"harer":4},
"semera":{"woldia":8,"gobi rasu":9,"alamata":11,"fanti rasu":7},
"jigijiga":{"babile":3,"dega habun":5},
"shire":{"humera":8,"debark":7,"axum":2},
"dessie":{"woldia":6,"kemisse":4},
"dollo":{"gode":17},
"mokadisho":{"gode":22},
"harer":{"babile":2,"dire dewa":4},
"woldia":{"dessie":6,"lalibela":7,"alamata":3,"semera":8},
"fanti rasu":{"kilbet rasu":6,"semera":7},
"alamata":{"sekota":6,"mekele":5,"woldia":3,"semera":11},
"babile":{"harer":2,"jigijiga":3,"gode":28},
"axum":{"shire":2,"adwa":1,"asmera":5},
"lalibela":{"sekota":6,"debre tabor":8,"woldia":7},
"kilbet rasu":{"fanti rasu":6},
"sekota":{"lalibela":6,"alamata":6,"mekele":9},
"mekele":{"adwa":7,"adigrat":4,"sekota":9,"alamata":5},
"adwa":{"axum":1,"adigrat":4,"mekele":4},
"asmera":{"adigrat":6,"axum":5},
"debre tabor":{"lalibela":8,"bahir dar":4},
"adigrat":{"asmera":6,"mekele":4,"adwa":4},
"nairobi":{"moyalle":22}

}


def uniform_cost_search(graph, start, goal):
    # Priority queue to store the nodes along with their cumulative costs
    frontier = [(0, start)]
    # Dictionary to keep track of the cumulative costs of visited nodes
    cost_so_far = {start: 0}
    # Dictionary to store the parent node of each visited node
    parent = {start: None}

    while frontier:
        # Get the node with the lowest cumulative cost from the priority queue
        current_cost, current_node = heapq.heappop(frontier)

        # Check if the goal state is reached
        if current_node == goal:
            break

        # Explore the neighbors of the current node
        for neighbor, cost in graph[current_node].items():
            # Calculate the cumulative cost to reach the neighbor
            new_cost = current_cost + cost

            # Check if the neighbor has not been visited before or the new cost is lower
            if neighbor not in cost_so_far or new_cost < cost_so_far[neighbor]:
                # Update the cost and parent for the neighbor
                cost_so_far[neighbor] = new_cost
                parent[neighbor] = current_node
                # Add the neighbor to the priority queue with the new cost
                heapq.heappush(frontier, (new_cost, neighbor))

    # Reconstruct the path from the goal to the start state
    path = []
    current = goal
    while current:
        path.append(current)
        current = parent[current]
    path.reverse()

    return path


# Define the start and goal states
start_state = "addis ababa"
goal_state = "lalibela"

# Find the path using uniform cost search
path = uniform_cost_search(graph, start_state, goal_state)

if path:
    print("Path found:")
    print(" -> ".join(path))
else:
    print("Path not found.")